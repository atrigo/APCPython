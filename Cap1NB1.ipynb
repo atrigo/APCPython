{
  "nbformat": 4,
  "nbformat_minor": 0,
  "metadata": {
    "colab": {
      "provenance": [],
      "authorship_tag": "ABX9TyOPX7OSDtLxDLvVkvrX79Mb",
      "include_colab_link": true
    },
    "kernelspec": {
      "name": "python3",
      "display_name": "Python 3"
    },
    "language_info": {
      "name": "python"
    }
  },
  "cells": [
    {
      "cell_type": "markdown",
      "metadata": {
        "id": "view-in-github",
        "colab_type": "text"
      },
      "source": [
        "<a href=\"https://colab.research.google.com/github/atrigo/APPython/blob/main/Cap1NB1.ipynb\" target=\"_parent\"><img src=\"https://colab.research.google.com/assets/colab-badge.svg\" alt=\"Open In Colab\"/></a>"
      ]
    },
    {
      "cell_type": "markdown",
      "source": [
        "\n",
        "\n",
        "1.   Introdução\n",
        "2.   Configurar o ambiente de desenvolvimento\n",
        "3.   Variáveis e tipos de dados\n",
        "4.   Listas\n",
        "5.   Trabalhando com Listas\n",
        "6.   Loops\n",
        "7.   If statements\n",
        "8.   Dictionarios\n",
        "9.   User input and while loops\n",
        "10.  Funcoes\n",
        "11.  Classes\n",
        "12.  Ficheiros e excecoes\n",
        "\n",
        "\n"
      ],
      "metadata": {
        "id": "gIvsLuJdXioX"
      }
    },
    {
      "cell_type": "markdown",
      "source": [
        "\n",
        "1. Introdução à programação\n",
        "2. Introdução ao Python\n",
        "3. Tipos de dados\n",
        "4. Estruturas de controlo de fluxo\n",
        "4.1 Estruturas sequenciais\n",
        "4.2 Estruturas de seleção\n",
        "4.3 Estruturas de repetição\n",
        "5. Funções\n",
        "6. Estruturas de dados\n",
        "6.1 Listas\n",
        "6.2. Tuplos\n",
        "6.3 Conjuntos\n",
        "6.4 Dicionários\n",
        "7. Tratamento de exceções\n",
        "8. Ficheiros e diretórios\n",
        "9. Introdução à programação orientada por objetos\n",
        "10. Programação de interfaces gráficas"
      ],
      "metadata": {
        "id": "4CqOk8V3aIOs"
      }
    },
    {
      "cell_type": "code",
      "source": [],
      "metadata": {
        "id": "PnPRkU7waH8T"
      },
      "execution_count": null,
      "outputs": []
    },
    {
      "cell_type": "code",
      "source": [
        "#Tipo de dados (sem necessidade de declaração do tipo de dados)\n",
        "a = 2\n",
        "b = 3\n",
        "print('Resultado de a+b:', a+b)\n"
      ],
      "metadata": {
        "colab": {
          "base_uri": "https://localhost:8080/"
        },
        "id": "1_sumD0OKnbB",
        "outputId": "e62bbcb1-6527-43f8-fee5-ce27579fcd0c"
      },
      "execution_count": 6,
      "outputs": [
        {
          "output_type": "stream",
          "name": "stdout",
          "text": [
            "Resultado de a+b: 5\n"
          ]
        }
      ]
    },
    {
      "cell_type": "code",
      "execution_count": 5,
      "metadata": {
        "id": "KAJS03FTXC5f",
        "colab": {
          "base_uri": "https://localhost:8080/"
        },
        "outputId": "273ed094-2ecb-4c36-ac3c-054bd9d0e3e3"
      },
      "outputs": [
        {
          "output_type": "stream",
          "name": "stdout",
          "text": [
            "Tipo de dados da variavel a: <class 'int'>\n",
            "Memoria ocupada pela variavel a: 28\n",
            "Tipo de dados da variavel b: <class 'float'>\n",
            "Memoria ocupada pela variavel b: 24\n",
            "Tipo de dados da variavel c: <class 'str'>\n",
            "Memoria ocupada pela variavel c: 60\n",
            "Tamanho da string c: 11\n"
          ]
        }
      ],
      "source": [
        "#Tamanho ocupado pelos tipos de dados em memória\n",
        "import sys\n",
        "a = 42\n",
        "b = 23.5\n",
        "c = 'Ola, mundo!'\n",
        "print('Tipo de dados da variavel a:', type(a))\n",
        "print('Memoria ocupada pela variavel a:', sys.getsizeof(a))\n",
        "print('Tipo de dados da variavel b:', type(b))\n",
        "print('Memoria ocupada pela variavel b:', sys.getsizeof(b))\n",
        "print('Tipo de dados da variavel c:', type(c))\n",
        "print('Memoria ocupada pela variavel c:', sys.getsizeof(c))\n",
        "print('Tamanho da string c:', len(c))"
      ]
    },
    {
      "cell_type": "code",
      "source": [
        "#Conversão e tipo de dados\n"
      ],
      "metadata": {
        "id": "rkWr5XpyF9uV"
      },
      "execution_count": null,
      "outputs": []
    },
    {
      "cell_type": "code",
      "source": [
        "#Cuidado com a inexistência de declaraçã ode tipo de dados\n"
      ],
      "metadata": {
        "id": "6h-7tNAROGGB"
      },
      "execution_count": null,
      "outputs": []
    }
  ]
}